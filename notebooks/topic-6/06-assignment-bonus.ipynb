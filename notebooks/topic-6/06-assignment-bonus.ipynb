{
 "cells": [
  {
   "cell_type": "markdown",
   "metadata": {},
   "source": [
    "<img src=\"https://habrastorage.org/webt/ia/m9/zk/iam9zkyzqebnf_okxipihkgjwnw.jpeg\" />\n",
    "    \n",
    "**<center>[mlcourse.ai](https://mlcourse.ai) – Open Machine Learning Course** </center><br>\n",
    "Author: [Yury Kashnitskiy](https://yorko.github.io) (@yorko). [mlcourse.ai](https://mlcourse.ai) is powered by [OpenDataScience (ods.ai)](https://ods.ai/) © 2017—2022"
   ]
  },
  {
   "cell_type": "markdown",
   "metadata": {},
   "source": [
    "# <center>Assignment #6. Solution</center><a class=\"tocSkip\">\n",
    "## <center> Beating benchmarks in \"How good is your Medium article?\"</center><a class=\"tocSkip\">\n",
    "    \n",
    "[Competition](https://www.kaggle.com/c/how-good-is-your-medium-article). The task is to beat \"Assignment 6 baseline\". You can refer to [this simple Ridge baseline](https://www.kaggle.com/kashnitsky/ridge-countvectorizer-baseline?rvi=1).\n",
    "\n",
    "-----"
   ]
  },
  {
   "cell_type": "code",
   "execution_count": 1,
   "metadata": {},
   "outputs": [],
   "source": [
    "import json\n",
    "import os\n",
    "import pickle\n",
    "from zipfile import ZipFile\n",
    "from datetime import datetime\n",
    "from glob import glob\n",
    "\n",
    "import numpy as np\n",
    "import pandas as pd\n",
    "from matplotlib import pyplot as plt\n",
    "from scipy.sparse import csr_matrix, hstack\n",
    "from sklearn.feature_extraction.text import CountVectorizer, TfidfVectorizer\n",
    "from sklearn.linear_model import Lasso, Ridge, RidgeCV, SGDRegressor\n",
    "from sklearn.metrics import mean_absolute_error\n",
    "from tqdm.notebook import tqdm"
   ]
  },
  {
   "cell_type": "markdown",
   "metadata": {},
   "source": [
    "The following code will help to throw away all HTML tags from an article content."
   ]
  },
  {
   "cell_type": "code",
   "execution_count": 4,
   "metadata": {},
   "outputs": [],
   "source": [
    "from html.parser import HTMLParser\n",
    "\n",
    "\n",
    "class MLStripper(HTMLParser):\n",
    "    def __init__(self):\n",
    "        self.reset()\n",
    "        self.strict = False\n",
    "        self.convert_charrefs = True\n",
    "        self.fed = []\n",
    "\n",
    "    def handle_data(self, d):\n",
    "        self.fed.append(d)\n",
    "\n",
    "    def get_data(self):\n",
    "        return \"\".join(self.fed)\n",
    "\n",
    "\n",
    "def strip_tags(html):\n",
    "    s = MLStripper()\n",
    "    s.feed(html)\n",
    "    return s.get_data()"
   ]
  },
  {
   "cell_type": "markdown",
   "metadata": {},
   "source": [
    "Supplementary function to read a JSON line without crashing on escape characters."
   ]
  },
  {
   "cell_type": "code",
   "execution_count": 8,
   "metadata": {},
   "outputs": [],
   "source": [
    "def read_json_line(line=None):\n",
    "    result = None\n",
    "    try:\n",
    "        result = json.loads(line)\n",
    "    except Exception as e:\n",
    "        # Find the offending character index:\n",
    "        idx_to_replace = int(str(e).split(\" \")[-1].replace(\")\", \"\"))\n",
    "        # Remove the offending character:\n",
    "        new_line = list(line)\n",
    "        new_line[idx_to_replace] = \" \"\n",
    "        new_line = \"\".join(new_line)\n",
    "        return read_json_line(line=new_line)\n",
    "    return result"
   ]
  },
  {
   "cell_type": "markdown",
   "metadata": {},
   "source": [
    "Parse JSON and extract some features."
   ]
  },
  {
   "cell_type": "code",
   "execution_count": 9,
   "metadata": {},
   "outputs": [],
   "source": [
    "def extract_features_and_write(path_to_data, inp_filename, is_train=True):\n",
    "\n",
    "    features = [\"content\", \"published\", \"title\", \"author\"]\n",
    "    prefix = \"train\" if is_train else \"test\"\n",
    "    feature_files = [\n",
    "        open(\n",
    "            os.path.join(path_to_data, \"{}_{}.txt\".format(prefix, feat)),\n",
    "            \"w\",\n",
    "            encoding=\"utf-8\",\n",
    "        )\n",
    "        for feat in features\n",
    "    ]\n",
    "\n",
    "    with open(\n",
    "        os.path.join(path_to_data, inp_filename), encoding=\"utf-8\"\n",
    "    ) as inp_json_file:\n",
    "\n",
    "        for line in tqdm(inp_json_file):\n",
    "            json_data = read_json_line(line)\n",
    "            for i, feat in enumerate(features):\n",
    "                if feat == \"published\":\n",
    "                    info = json_data[feat][\"$date\"]\n",
    "                elif feat == \"author\":\n",
    "                    info = json_data[feat][\"twitter\"]\n",
    "                    if info:\n",
    "                        info = info.replace(\"\\n\", \" \").replace(\"@\", \" \")\n",
    "                    else:\n",
    "                        info = \"\"\n",
    "                elif feat == \"content\" or feat == \"title\":\n",
    "                    info = json_data[feat].replace(\"\\n\", \" \").replace(\"\\r\", \" \")\n",
    "                    info = strip_tags(info)\n",
    "                feature_files[i].write(info + \"\\n\")"
   ]
  },
  {
   "cell_type": "markdown",
   "metadata": {},
   "source": [
    "Download the [competition data](https://www.kaggle.com/c/how-good-is-your-medium-article/data) and place it where it's convenient for you. You can modify the path to data below."
   ]
  },
  {
   "cell_type": "code",
   "execution_count": 10,
   "metadata": {},
   "outputs": [],
   "source": [
    "DATA_FOLDER = '../../data/'\n",
    "DATA_ZIP_FILE = 'how-good-is-your-medium-article.zip'\n",
    "TEMP_FOLDER = 'temp/'\n",
    "PATH_TO_DATA = DATA_FOLDER + TEMP_FOLDER"
   ]
  },
  {
   "cell_type": "code",
   "execution_count": 11,
   "metadata": {},
   "outputs": [],
   "source": [
    "# loading the data.zip and creating a zip object \n",
    "with ZipFile(\n",
    "    os.path.join(DATA_FOLDER, DATA_ZIP_FILE),\n",
    "    \"r\"\n",
    ") as zObject: \n",
    "  \n",
    "    # Extracting all the members of the zip  \n",
    "    # into a specific temporary location\n",
    "    zObject.extractall( \n",
    "        path=os.path.join(DATA_FOLDER, TEMP_FOLDER)\n",
    "    ) "
   ]
  },
  {
   "cell_type": "code",
   "execution_count": 12,
   "metadata": {},
   "outputs": [
    {
     "data": {
      "application/vnd.jupyter.widget-view+json": {
       "model_id": "dd2881ced9f2466b8b2820b12e951c76",
       "version_major": 2,
       "version_minor": 0
      },
      "text/plain": [
       "0it [00:00, ?it/s]"
      ]
     },
     "metadata": {},
     "output_type": "display_data"
    },
    {
     "name": "stdout",
     "output_type": "stream",
     "text": [
      "CPU times: user 3min 46s, sys: 14.1 s, total: 4min\n",
      "Wall time: 3min 59s\n"
     ]
    }
   ],
   "source": [
    "%%time\n",
    "extract_features_and_write(PATH_TO_DATA, \"train.json\", is_train=True)"
   ]
  },
  {
   "cell_type": "code",
   "execution_count": 13,
   "metadata": {},
   "outputs": [
    {
     "data": {
      "application/vnd.jupyter.widget-view+json": {
       "model_id": "09f4d4bb769f4d1287b143cec49e2bc9",
       "version_major": 2,
       "version_minor": 0
      },
      "text/plain": [
       "0it [00:00, ?it/s]"
      ]
     },
     "metadata": {},
     "output_type": "display_data"
    },
    {
     "name": "stdout",
     "output_type": "stream",
     "text": [
      "CPU times: user 2min 21s, sys: 11.3 s, total: 2min 32s\n",
      "Wall time: 2min 32s\n"
     ]
    }
   ],
   "source": [
    "%%time\n",
    "extract_features_and_write(PATH_TO_DATA, \"test.json\", is_train=False)"
   ]
  },
  {
   "cell_type": "code",
   "execution_count": 14,
   "metadata": {},
   "outputs": [],
   "source": [
    "# Listing the files in temporary folder\n",
    "files = [\n",
    "    os.path.basename(file).split(\"data/\")[0] for file in glob(\n",
    "        os.path.join(\n",
    "            DATA_FOLDER,\n",
    "            TEMP_FOLDER,\n",
    "            \"*\"\n",
    "        )\n",
    "    )\n",
    "]"
   ]
  },
  {
   "cell_type": "markdown",
   "metadata": {},
   "source": [
    "**Tf-Idf with article content.**"
   ]
  },
  {
   "cell_type": "code",
   "execution_count": 15,
   "metadata": {},
   "outputs": [],
   "source": [
    "tfidf_vectorizer = TfidfVectorizer(ngram_range=(1, 2), max_features=100000)"
   ]
  },
  {
   "cell_type": "code",
   "execution_count": 16,
   "metadata": {},
   "outputs": [
    {
     "name": "stdout",
     "output_type": "stream",
     "text": [
      "CPU times: user 10min 23s, sys: 24.5 s, total: 10min 48s\n",
      "Wall time: 10min 47s\n"
     ]
    }
   ],
   "source": [
    "%%time\n",
    "with open(\n",
    "    os.path.join(PATH_TO_DATA, \"train_content.txt\"), encoding=\"utf-8\"\n",
    ") as input_train_file:\n",
    "    X_train_content_sparse = tfidf_vectorizer.fit_transform(input_train_file)\n",
    "\n",
    "with open(\n",
    "    os.path.join(PATH_TO_DATA, \"test_content.txt\"), encoding=\"utf-8\"\n",
    ") as input_test_file:\n",
    "    X_test_content_sparse = tfidf_vectorizer.transform(input_test_file)"
   ]
  },
  {
   "cell_type": "code",
   "execution_count": 17,
   "metadata": {},
   "outputs": [
    {
     "data": {
      "text/plain": [
       "((62313, 100000), (34645, 100000))"
      ]
     },
     "execution_count": 17,
     "metadata": {},
     "output_type": "execute_result"
    }
   ],
   "source": [
    "X_train_content_sparse.shape, X_test_content_sparse.shape"
   ]
  },
  {
   "cell_type": "markdown",
   "metadata": {},
   "source": [
    "**Tf-Idf with titles.**"
   ]
  },
  {
   "cell_type": "code",
   "execution_count": 19,
   "metadata": {},
   "outputs": [
    {
     "name": "stdout",
     "output_type": "stream",
     "text": [
      "CPU times: user 8.03 s, sys: 37.3 ms, total: 8.07 s\n",
      "Wall time: 8.07 s\n"
     ]
    }
   ],
   "source": [
    "%%time\n",
    "tfidf_vectorizer_title = TfidfVectorizer(ngram_range=(1, 3), max_features=100000)\n",
    "\n",
    "with open(\n",
    "    os.path.join(PATH_TO_DATA, \"train_title.txt\"), encoding=\"utf-8\"\n",
    ") as input_train_file:\n",
    "    X_train_title_sparse = tfidf_vectorizer_title.fit_transform(input_train_file)\n",
    "\n",
    "with open(\n",
    "    os.path.join(PATH_TO_DATA, \"test_title.txt\"), encoding=\"utf-8\"\n",
    ") as input_test_file:\n",
    "    X_test_title_sparse = tfidf_vectorizer_title.transform(input_test_file)"
   ]
  },
  {
   "cell_type": "code",
   "execution_count": 20,
   "metadata": {},
   "outputs": [
    {
     "data": {
      "text/plain": [
       "((62313, 100000), (34645, 100000))"
      ]
     },
     "execution_count": 20,
     "metadata": {},
     "output_type": "execute_result"
    }
   ],
   "source": [
    "X_train_title_sparse.shape, X_test_title_sparse.shape"
   ]
  },
  {
   "cell_type": "markdown",
   "metadata": {},
   "source": [
    "**Add time features.**"
   ]
  },
  {
   "cell_type": "code",
   "execution_count": 21,
   "metadata": {},
   "outputs": [],
   "source": [
    "def add_time_features(path_to_publication_time_file):\n",
    "\n",
    "    df = pd.read_csv(path_to_publication_time_file, names=[\"time\"])\n",
    "    df[\"time\"] = df[\"time\"].apply(\n",
    "        lambda t: pd.to_datetime(t.replace(\"T\", \" \").replace(\"Z\", \"\"))\n",
    "    )\n",
    "    df[\"hour\"] = df[\"time\"].apply(lambda ts: ts.hour)\n",
    "    df[\"month\"] = df[\"time\"].apply(lambda ts: ts.month)\n",
    "\n",
    "    df[\"weekend\"] = (\n",
    "        df[\"time\"]\n",
    "        .apply(lambda ts: ts.weekday() == 5 or ts.weekday() == 6)\n",
    "        .astype(\"int\")\n",
    "    )\n",
    "\n",
    "    df[\"day\"] = ((df[\"hour\"] >= 12) & (df[\"hour\"] <= 18)).astype(\"int\")\n",
    "    df[\"morning\"] = ((df[\"hour\"] >= 7) & (df[\"hour\"] <= 11)).astype(\"int\")\n",
    "    df[\"night\"] = ((df[\"hour\"] >= 0) & (df[\"hour\"] <= 5)).astype(\"int\")\n",
    "\n",
    "    cols = [\"day\", \"morning\", \"night\", \"month\", \"weekend\"]\n",
    "    X_time_features_sparse = csr_matrix(df[cols].values)\n",
    "\n",
    "    return X_time_features_sparse"
   ]
  },
  {
   "cell_type": "code",
   "execution_count": 22,
   "metadata": {},
   "outputs": [
    {
     "name": "stdout",
     "output_type": "stream",
     "text": [
      "CPU times: user 1min 4s, sys: 21.8 ms, total: 1min 4s\n",
      "Wall time: 1min 4s\n"
     ]
    }
   ],
   "source": [
    "%%time\n",
    "X_train_time_features_sparse = add_time_features(\n",
    "    os.path.join(PATH_TO_DATA, \"train_published.txt\")\n",
    ")\n",
    "X_test_time_features_sparse = add_time_features(\n",
    "    os.path.join(PATH_TO_DATA, \"test_published.txt\")\n",
    ")"
   ]
  },
  {
   "cell_type": "code",
   "execution_count": 29,
   "metadata": {},
   "outputs": [
    {
     "data": {
      "text/plain": [
       "((62313, 5), (34645, 5))"
      ]
     },
     "execution_count": 29,
     "metadata": {},
     "output_type": "execute_result"
    }
   ],
   "source": [
    "X_train_time_features_sparse.shape, X_test_time_features_sparse.shape"
   ]
  },
  {
   "cell_type": "markdown",
   "metadata": {},
   "source": [
    "**Add authors.**"
   ]
  },
  {
   "cell_type": "code",
   "execution_count": 24,
   "metadata": {},
   "outputs": [
    {
     "name": "stdout",
     "output_type": "stream",
     "text": [
      "CPU times: user 21.9 s, sys: 2.62 s, total: 24.5 s\n",
      "Wall time: 24.5 s\n"
     ]
    }
   ],
   "source": [
    "%%time\n",
    "author_train = pd.read_csv(\n",
    "    os.path.join(PATH_TO_DATA, \"train_author.txt\"),\n",
    "    names=[\"author\"],\n",
    "    skip_blank_lines=False,\n",
    ")\n",
    "author_train = pd.get_dummies(author_train)\n",
    "\n",
    "author_test = pd.read_csv(\n",
    "    os.path.join(PATH_TO_DATA, \"test_author.txt\"),\n",
    "    names=[\"author\"],\n",
    "    skip_blank_lines=False,\n",
    ")\n",
    "author_test = pd.get_dummies(author_test)\n",
    "\n",
    "unique_authors_train = list(set(author_train.columns) - set(author_test.columns))\n",
    "unique_authors_test = list(set(author_test.columns) - set(author_train.columns))\n",
    "\n",
    "author_test = author_test.drop(unique_authors_test, axis=1)\n",
    "author_train = author_train.drop(unique_authors_train, axis=1)\n",
    "\n",
    "X_train_author_sparse = csr_matrix(author_train.values)\n",
    "X_test_author_sparse = csr_matrix(author_test.values)"
   ]
  },
  {
   "cell_type": "code",
   "execution_count": 25,
   "metadata": {},
   "outputs": [
    {
     "data": {
      "text/plain": [
       "((62313, 4587), (34645, 4587))"
      ]
     },
     "execution_count": 25,
     "metadata": {},
     "output_type": "execute_result"
    }
   ],
   "source": [
    "X_train_author_sparse.shape, X_test_author_sparse.shape"
   ]
  },
  {
   "cell_type": "markdown",
   "metadata": {},
   "source": [
    "**Join all sparse matrices.**"
   ]
  },
  {
   "cell_type": "code",
   "execution_count": 26,
   "metadata": {},
   "outputs": [],
   "source": [
    "X_train_sparse = hstack(\n",
    "    [\n",
    "        X_train_content_sparse,\n",
    "        X_train_title_sparse,\n",
    "        X_train_author_sparse,\n",
    "        X_train_time_features_sparse,\n",
    "    ]\n",
    ").tocsr()"
   ]
  },
  {
   "cell_type": "code",
   "execution_count": 27,
   "metadata": {},
   "outputs": [],
   "source": [
    "X_test_sparse = hstack(\n",
    "    [\n",
    "        X_test_content_sparse,\n",
    "        X_test_title_sparse,\n",
    "        X_test_author_sparse,\n",
    "        X_test_time_features_sparse,\n",
    "    ]\n",
    ").tocsr()"
   ]
  },
  {
   "cell_type": "code",
   "execution_count": 30,
   "metadata": {},
   "outputs": [
    {
     "data": {
      "text/plain": [
       "((62313, 204592), (34645, 204592))"
      ]
     },
     "execution_count": 30,
     "metadata": {},
     "output_type": "execute_result"
    }
   ],
   "source": [
    "X_train_sparse.shape, X_test_sparse.shape"
   ]
  },
  {
   "cell_type": "markdown",
   "metadata": {},
   "source": [
    "**Read train target and split data for validation.**"
   ]
  },
  {
   "cell_type": "code",
   "execution_count": 31,
   "metadata": {},
   "outputs": [],
   "source": [
    "train_target = pd.read_csv(\n",
    "    os.path.join(PATH_TO_DATA, \"train_log1p_recommends.csv\"), index_col=\"id\"\n",
    ")\n",
    "y_train = train_target[\"log_recommends\"].values"
   ]
  },
  {
   "cell_type": "code",
   "execution_count": 32,
   "metadata": {},
   "outputs": [],
   "source": [
    "train_part_size = int(0.7 * train_target.shape[0])\n",
    "X_train_part_sparse = X_train_sparse[:train_part_size, :]\n",
    "y_train_part = y_train[:train_part_size]\n",
    "X_valid_sparse = X_train_sparse[train_part_size:, :]\n",
    "y_valid = y_train[train_part_size:]"
   ]
  },
  {
   "cell_type": "markdown",
   "metadata": {},
   "source": [
    "**Train a simple Ridge model and check MAE on the validation set.**"
   ]
  },
  {
   "cell_type": "code",
   "execution_count": 33,
   "metadata": {},
   "outputs": [
    {
     "name": "stdout",
     "output_type": "stream",
     "text": [
      "1.1032474166060544\n",
      "CPU times: user 3min 48s, sys: 2.09 s, total: 3min 50s\n",
      "Wall time: 1min 7s\n"
     ]
    }
   ],
   "source": [
    "%%time\n",
    "ridge_reg = Ridge(random_state=17)\n",
    "ridge_reg.fit(X_train_part_sparse, y_train_part)\n",
    "ridge_valid_pred = ridge_reg.predict(X_valid_sparse)\n",
    "print(mean_absolute_error(y_valid, ridge_valid_pred))"
   ]
  },
  {
   "cell_type": "markdown",
   "metadata": {},
   "source": [
    "Plot distributions of tagets and predictions for the validation set."
   ]
  },
  {
   "cell_type": "code",
   "execution_count": 34,
   "metadata": {},
   "outputs": [
    {
     "data": {
      "image/png": "[encoded data removed]",
      "text/plain": [
       "<Figure size 640x480 with 1 Axes>"
      ]
     },
     "metadata": {},
     "output_type": "display_data"
    }
   ],
   "source": [
    "plt.hist(y_valid, bins=30, alpha=0.5, color=\"red\", label=\"true\", range=(0, 10))\n",
    "plt.hist(\n",
    "    ridge_valid_pred, bins=30, alpha=0.5, color=\"green\", label=\"pred\", range=(0, 10)\n",
    ")\n",
    "plt.legend();"
   ]
  },
  {
   "cell_type": "markdown",
   "metadata": {},
   "source": [
    "**Train the same Ridge with all available data, make predictions for the test set and form a submission file.**"
   ]
  },
  {
   "cell_type": "code",
   "execution_count": 35,
   "metadata": {},
   "outputs": [
    {
     "name": "stdout",
     "output_type": "stream",
     "text": [
      "CPU times: user 4min 57s, sys: 3.38 s, total: 5min\n",
      "Wall time: 1min 47s\n"
     ]
    }
   ],
   "source": [
    "%%time\n",
    "ridge_reg.fit(X_train_sparse, y_train)\n",
    "ridge_test_pred = ridge_reg.predict(X_test_sparse)"
   ]
  },
  {
   "cell_type": "code",
   "execution_count": 36,
   "metadata": {},
   "outputs": [],
   "source": [
    "def write_submission_file(\n",
    "    prediction,\n",
    "    filename,\n",
    "    path_to_sample=os.path.join(PATH_TO_DATA, \"sample_submission.csv\"),\n",
    "):\n",
    "    submission = pd.read_csv(path_to_sample, index_col=\"id\")\n",
    "\n",
    "    submission[\"log_recommends\"] = prediction\n",
    "    submission.to_csv(filename)"
   ]
  },
  {
   "cell_type": "code",
   "execution_count": 37,
   "metadata": {},
   "outputs": [],
   "source": [
    "write_submission_file(\n",
    "    ridge_test_pred, os.path.join(PATH_TO_DATA, \"assignment6_medium_submission.csv\")\n",
    ")"
   ]
  },
  {
   "cell_type": "markdown",
   "metadata": {},
   "source": [
    "**With this you get ~ 1.73877 on public leaderboard.**\n",
    "\n",
    "**Now's the time for dirty Kaggle hacks. Form a submission file with all zeroes. Make a submission. What do you get if you think about? How is it going to help you with modifying your predictions?**"
   ]
  },
  {
   "cell_type": "code",
   "execution_count": 38,
   "metadata": {},
   "outputs": [],
   "source": [
    "write_submission_file(\n",
    "    np.zeros_like(ridge_test_pred),\n",
    "    os.path.join(PATH_TO_DATA, \"medium_all_zeros_submission.csv\"),\n",
    ")"
   ]
  },
  {
   "cell_type": "code",
   "execution_count": 39,
   "metadata": {},
   "outputs": [],
   "source": [
    "mean_test_target = 4.33328"
   ]
  },
  {
   "cell_type": "markdown",
   "metadata": {},
   "source": [
    "**Calculate mean target for the test set.**"
   ]
  },
  {
   "cell_type": "code",
   "execution_count": 40,
   "metadata": {},
   "outputs": [
    {
     "data": {
      "text/plain": [
       "3.051538598205832"
      ]
     },
     "execution_count": 40,
     "metadata": {},
     "output_type": "execute_result"
    }
   ],
   "source": [
    "y_train.mean()"
   ]
  },
  {
   "cell_type": "markdown",
   "metadata": {},
   "source": [
    "**Now we now that we need to add the difference between test and train mean targets.**"
   ]
  },
  {
   "cell_type": "code",
   "execution_count": 41,
   "metadata": {},
   "outputs": [],
   "source": [
    "ridge_test_pred_modif = ridge_test_pred + mean_test_target - y_train.mean()"
   ]
  },
  {
   "cell_type": "code",
   "execution_count": 42,
   "metadata": {},
   "outputs": [],
   "source": [
    "write_submission_file(\n",
    "    ridge_test_pred_modif,\n",
    "    os.path.join(PATH_TO_DATA, \"assignment6_medium_submission_with_hack.csv\"),\n",
    ")"
   ]
  },
  {
   "cell_type": "markdown",
   "metadata": {},
   "source": [
    "That's it for the assignment. In case you'd like to try some more ideas for improvement:\n",
    "\n",
    "- Engineer good features, this is the key to success. Some simple features will be based on publication time, authors, content length and so on\n",
    "- You may not ignore HTML and extract some features from there\n",
    "- You'd better experiment with your validation scheme. You should see a correlation between your local improvements and LB score\n",
    "- Try TF-IDF, ngrams, Word2Vec and GloVe embeddings\n",
    "- Try various NLP techniques like stemming and lemmatization\n",
    "- Tune hyperparameters. In our example, we've left only 50k features and used C=1 as a regularization parameter, this can be changed\n",
    "- SGD and Vowpal Wabbit will train much faster\n",
    "- Play around with blending and/or stacking. An intro is given in [this Kernel](https://www.kaggle.com/kashnitsky/ridge-and-lightgbm-simple-blending) by @yorko \n",
    "- And neural nets of course. We don't cover them in this course byt still transformer-based architectures will likely perform well in such types of tasks"
   ]
  },
  {
   "cell_type": "code",
   "execution_count": 44,
   "metadata": {},
   "outputs": [
    {
     "name": "stdout",
     "output_type": "stream",
     "text": [
      "train.json.gz does not exist\n",
      "test_author.txt does not exist\n",
      "test_title.txt does not exist\n",
      "train_published.txt does not exist\n",
      "test_published.txt does not exist\n",
      "train_title.txt does not exist\n",
      "test.json does not exist\n",
      "test_content.txt does not exist\n",
      "train.json does not exist\n",
      "test.json.gz does not exist\n",
      "sample_submission.csv does not exist\n",
      "test_log1p_recommends.csv does not exist\n",
      "train_content.txt does not exist\n",
      "train_log1p_recommends.csv does not exist\n",
      "train_author.txt does not exist\n",
      "Folder does not exist\n"
     ]
    }
   ],
   "source": [
    "# Deleting temporary files\n",
    "for file in files:\n",
    "    try:\n",
    "        os.remove(os.path.join(DATA_FOLDER, TEMP_FOLDER, file))\n",
    "    except:\n",
    "        print(f\"{file} does not exist\")\n",
    "\n",
    "# Deleting temporary folder\n",
    "try:\n",
    "    os.rmdir(os.path.join(DATA_FOLDER, TEMP_FOLDER))\n",
    "except:\n",
    "    print(\"Folder does not exist\")"
   ]
  }
 ],
 "metadata": {
  "kernelspec": {
   "display_name": "Python 3 (ipykernel)",
   "language": "python",
   "name": "python3"
  },
  "language_info": {
   "codemirror_mode": {
    "name": "ipython",
    "version": 3
   },
   "file_extension": ".py",
   "mimetype": "text/x-python",
   "name": "python",
   "nbconvert_exporter": "python",
   "pygments_lexer": "ipython3",
   "version": "3.12.2"
  }
 },
 "nbformat": 4,
 "nbformat_minor": 2
}
